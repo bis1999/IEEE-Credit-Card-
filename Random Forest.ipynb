{
 "cells": [
  {
   "cell_type": "markdown",
   "id": "b3965899",
   "metadata": {},
   "source": [
    "### Objectives\n",
    "- The objective of this notebook is to start with modelling the data with Random Forest \n",
    "- Explain Random Forest "
   ]
  },
  {
   "cell_type": "code",
   "execution_count": 365,
   "id": "de7088c6",
   "metadata": {},
   "outputs": [],
   "source": [
    "import numpy as np # linear algebra\n",
    "import pandas as pd # data processing, CSV file I/O (e.g. pd.read_csv)\n",
    "\n",
    "import os\n",
    "\n",
    "\n",
    "from sklearn import preprocessing\n",
    "import xgboost as xgb\n",
    "\n",
    "from sklearn.ensemble import RandomForestClassifier\n",
    "from sklearn.model_selection import train_test_split\n",
    "from sklearn import metrics\n",
    "\n",
    "import matplotlib.pyplot as plt\n",
    "import seaborn as sns\n",
    "from sklearn.ensemble import RandomForestClassifier, RandomForestRegressor\n",
    "from sklearn.model_selection import train_test_split\n",
    "import os\n",
    "from pandas_summary import DataFrameSummary\n",
    "from matplotlib import pyplot as plt\n",
    "import math\n",
    "\n",
    "from sklearn.model_selection import train_test_split\n",
    "from sklearn import metrics\n",
    "from sklearn import tree\n",
    "from sklearn.tree import DecisionTreeClassifier, export_graphviz\n",
    "import graphviz\n",
    "import re\n",
    "\n",
    "import shap\n",
    "import eli5\n",
    "from eli5.sklearn import PermutationImportance\n",
    "from tqdm import tqdm\n",
    "from sklearn.preprocessing import LabelEncoder\n",
    "from sklearn.model_selection import StratifiedKFold, KFold, TimeSeriesSplit, train_test_split\n",
    "\n",
    "\n",
    "from sklearn.metrics import roc_auc_score\n",
    "import time"
   ]
  },
  {
   "cell_type": "code",
   "execution_count": 366,
   "id": "b544f844",
   "metadata": {},
   "outputs": [
    {
     "name": "stderr",
     "output_type": "stream",
     "text": [
      "Columns (11,14) have mixed types.Specify dtype option on import or set low_memory=False.\n",
      "Columns (13) have mixed types.Specify dtype option on import or set low_memory=False.\n"
     ]
    }
   ],
   "source": [
    "train = pd.read_csv(\"Modeltrain.csv\")\n",
    "test = pd.read_csv(\"Modeltest.csv\")"
   ]
  },
  {
   "cell_type": "markdown",
   "id": "4ce5340c",
   "metadata": {},
   "source": [
    "### Filling nan data "
   ]
  },
  {
   "cell_type": "code",
   "execution_count": 367,
   "id": "b3a805cf",
   "metadata": {},
   "outputs": [],
   "source": [
    "train[[\"P_emaildomain_bin\",\"P_emaildomain_suffix\",\"R_emaildomain_bin\",\"R_emaildomain_suffix\"]] = train[[\"P_emaildomain_bin\",\"P_emaildomain_suffix\",\"R_emaildomain_bin\",\"R_emaildomain_suffix\"]].fillna(\"Unknown\")\n",
    "test[[\"P_emaildomain_bin\",\"P_emaildomain_suffix\",\"R_emaildomain_bin\",\"R_emaildomain_suffix\"]] = test[[\"P_emaildomain_bin\",\"P_emaildomain_suffix\",\"R_emaildomain_bin\",\"R_emaildomain_suffix\"]].fillna(\"Unknown\")"
   ]
  },
  {
   "cell_type": "code",
   "execution_count": 382,
   "id": "48996a4e",
   "metadata": {},
   "outputs": [],
   "source": [
    "V_vars = columns_names(\"V\",1,339)"
   ]
  },
  {
   "cell_type": "code",
   "execution_count": 384,
   "id": "bcd2f4ad",
   "metadata": {},
   "outputs": [],
   "source": [
    "train[V_vars] = train[V_vars].fillna(-999)\n",
    "test[V_vars] = test[V_vars].fillna(-999)"
   ]
  },
  {
   "cell_type": "code",
   "execution_count": 385,
   "id": "42efd60b",
   "metadata": {},
   "outputs": [
    {
     "name": "stdout",
     "output_type": "stream",
     "text": [
      "Train shape (590540, 443)\n",
      "Test shape (506691, 443)\n"
     ]
    }
   ],
   "source": [
    "print(\"Train shape\",train.shape)\n",
    "print(\"Test shape\",test.shape)"
   ]
  },
  {
   "cell_type": "code",
   "execution_count": null,
   "id": "a9ed63b6",
   "metadata": {},
   "outputs": [],
   "source": [
    "for i in C:\n",
    "    test = imputer(test,i,\"mode\")"
   ]
  },
  {
   "cell_type": "markdown",
   "id": "00c01069",
   "metadata": {},
   "source": [
    "## Data Preprocessing "
   ]
  },
  {
   "cell_type": "code",
   "execution_count": 370,
   "id": "e0221699",
   "metadata": {},
   "outputs": [],
   "source": [
    "is_Fruad = train[\"isFraud\"]\n",
    "train = train.drop([\"isFraud\"],axis=1)"
   ]
  },
  {
   "cell_type": "code",
   "execution_count": 374,
   "id": "18c2e5bb",
   "metadata": {},
   "outputs": [
    {
     "name": "stderr",
     "output_type": "stream",
     "text": [
      "100%|████████████████████████████████████████████████████████████████████████████████| 443/443 [00:44<00:00, 10.01it/s]\n"
     ]
    }
   ],
   "source": [
    "for f in tqdm(train.columns):\n",
    "    if train[f].dtype=='object' or test[f].dtype=='object':\n",
    "        train[f] = train[f].fillna('unseen_before_label')\n",
    "        test[f] = test[f].fillna('unseen_before_label')\n",
    "        lbl = LabelEncoder()\n",
    "        lbl.fit(list(train[f].values) + list(test[f].values))\n",
    "        train[f] = lbl.transform(list(train[f].values))\n",
    "        test[f] = lbl.transform(list(test[f].values))\n",
    "        train[f] = train[f].astype('category')\n",
    "        test[f] = test[f].astype('category')\n",
    "\n",
    "   "
   ]
  },
  {
   "cell_type": "code",
   "execution_count": 375,
   "id": "8700350d",
   "metadata": {
    "scrolled": true
   },
   "outputs": [
    {
     "name": "stdout",
     "output_type": "stream",
     "text": [
      "train.shape : (590540, 443), test.shape : (506691, 443)\n"
     ]
    }
   ],
   "source": [
    " print(f'train.shape : {train.shape}, test.shape : {test.shape}')"
   ]
  },
  {
   "cell_type": "code",
   "execution_count": 405,
   "id": "f7b17912",
   "metadata": {},
   "outputs": [],
   "source": [
    "train = train.drop([\"Unnamed: 0\",\"Unnamed: 0.1\",\"TransactionID\",\"TransactionID\"],axis=1)\n",
    "test = test.drop([\"Unnamed: 0\",\"Unnamed: 0.1\",\"TransactionID\",\"TransactionID\"],axis=1)"
   ]
  },
  {
   "cell_type": "code",
   "execution_count": 422,
   "id": "51b21098",
   "metadata": {},
   "outputs": [],
   "source": [
    "train = train.drop([\"TransactionAmt_log\",\"TransactionDT\",\"trans_dt\"],axis=1)\n",
    "test = test.drop([\"TransactionAmt_log\",\"TransactionDT\",\"trans_dt\"],axis=1)"
   ]
  },
  {
   "cell_type": "markdown",
   "id": "9eeeb8d6",
   "metadata": {},
   "source": [
    "### Train and Test Split "
   ]
  },
  {
   "cell_type": "code",
   "execution_count": 423,
   "id": "1bac2fda",
   "metadata": {},
   "outputs": [],
   "source": [
    "X_train, X_val, Y_train, Y_val = train_test_split(train,is_Fruad, \n",
    "                                                    test_size=0.15, \n",
    "                                                    random_state=42)"
   ]
  },
  {
   "cell_type": "code",
   "execution_count": 424,
   "id": "5df40059",
   "metadata": {},
   "outputs": [],
   "source": [
    "random_forest = RandomForestClassifier(n_jobs=-1)\n",
    "random_forest.fit(X_train,Y_train)\n",
    "feature =pd.DataFrame(random_forest.feature_importances_,columns=[\"Impotance\"])\n",
    "feature[\"features\"]= random_forest.feature_names_in_\n",
    "feature = feature.sort_values(by = \"Impotance\",ascending=False)"
   ]
  },
  {
   "cell_type": "code",
   "execution_count": 483,
   "id": "58750389",
   "metadata": {
    "scrolled": true
   },
   "outputs": [
    {
     "name": "stdout",
     "output_type": "stream",
     "text": [
      "Validation roc_auc_score 0.92995103122914\n"
     ]
    }
   ],
   "source": [
    "print(\"Validation roc_auc_score\",roc_auc_score(Y_val,random_forest.predict_proba(X_val)[:,1] ))"
   ]
  },
  {
   "cell_type": "code",
   "execution_count": 469,
   "id": "12515534",
   "metadata": {},
   "outputs": [],
   "source": [
    "Y_pred = random_forest.predict_proba(test)[:,1]\n",
    "sample = pd.read_csv(\"sample_submission.csv\")\n",
    "sample[\"isFraud\"] = Y_pred\n",
    "sample.to_csv(\"Baseline_randomforest.csv\",index = False)"
   ]
  },
  {
   "cell_type": "markdown",
   "id": "e1186d41",
   "metadata": {},
   "source": [
    "**Kaggle Score : 0.873164**"
   ]
  },
  {
   "cell_type": "markdown",
   "id": "71eea4aa",
   "metadata": {},
   "source": [
    "### Tackling the Imbalance Class"
   ]
  },
  {
   "cell_type": "markdown",
   "id": "d058a42e",
   "metadata": {},
   "source": [
    "#### Oversample minority class "
   ]
  },
  {
   "cell_type": "code",
   "execution_count": 485,
   "id": "a67cc1ee",
   "metadata": {},
   "outputs": [],
   "source": [
    "\n",
    "from sklearn.utils import resample\n",
    "from xgboost import XGBClassifier\n",
    "from sklearn.metrics import roc_auc_score,precision_recall_curve,roc_curve\n",
    "from sklearn.model_selection import train_test_split\n",
    "from sklearn.manifold import TSNE\n",
    "from sklearn.decomposition import PCA, TruncatedSVD\n",
    "import time\n",
    "import matplotlib.patches as mpatches\n",
    "from sklearn.metrics import confusion_matrix"
   ]
  },
  {
   "cell_type": "code",
   "execution_count": 500,
   "id": "aec91924",
   "metadata": {},
   "outputs": [],
   "source": [
    "X=pd.concat([train,is_Fruad],axis=1)\n",
    "not_fraud=X[X.isFraud==0]\n",
    "fraud=X[X.isFraud==1]"
   ]
  },
  {
   "cell_type": "code",
   "execution_count": 505,
   "id": "5a64e266",
   "metadata": {},
   "outputs": [],
   "source": [
    "# upsample minority\n",
    "fraud_upsampled = resample(fraud,\n",
    "                          replace=True, # sample with replacement\n",
    "                          n_samples=len(not_fraud), # match number in majority class\n",
    "                          random_state=27)\n",
    "upsampled = pd.concat([not_fraud, fraud_upsampled])\n"
   ]
  },
  {
   "cell_type": "code",
   "execution_count": 506,
   "id": "b26d04ec",
   "metadata": {},
   "outputs": [
    {
     "data": {
      "text/plain": [
       "0    569877\n",
       "1    569877\n",
       "Name: isFraud, dtype: int64"
      ]
     },
     "execution_count": 506,
     "metadata": {},
     "output_type": "execute_result"
    }
   ],
   "source": [
    "upsampled.isFraud.value_counts()"
   ]
  },
  {
   "cell_type": "code",
   "execution_count": 507,
   "id": "b679a13e",
   "metadata": {
    "scrolled": true
   },
   "outputs": [
    {
     "data": {
      "image/png": "[encoded data removed]",
      "text/plain": [
       "<Figure size 576x396 with 1 Axes>"
      ]
     },
     "metadata": {},
     "output_type": "display_data"
    }
   ],
   "source": [
    "y=upsampled.isFraud.value_counts()\n",
    "sns.barplot(y=y,x=[0,1])\n",
    "plt.title('upsampled data class count')\n",
    "plt.ylabel('count')\n",
    "plt.show()"
   ]
  },
  {
   "cell_type": "code",
   "execution_count": 510,
   "id": "dbdad57f",
   "metadata": {},
   "outputs": [],
   "source": [
    "y = upsampled[\"isFraud\"]\n",
    "upsampled = upsampled.drop([\"isFraud\"],axis=1)\n"
   ]
  },
  {
   "cell_type": "code",
   "execution_count": 511,
   "id": "8b7aeb5f",
   "metadata": {},
   "outputs": [],
   "source": [
    "X_train, X_val, Y_train, Y_val = train_test_split(upsampled,y, \n",
    "                                                    test_size=0.15, \n",
    "                                                    random_state=42)"
   ]
  },
  {
   "cell_type": "code",
   "execution_count": 513,
   "id": "d3b28d6e",
   "metadata": {},
   "outputs": [
    {
     "data": {
      "text/plain": [
       "RandomForestClassifier(n_jobs=-1)"
      ]
     },
     "execution_count": 513,
     "metadata": {},
     "output_type": "execute_result"
    }
   ],
   "source": [
    "random_forest_up = RandomForestClassifier(n_jobs=-1)\n",
    "random_forest_up.fit(X_train,Y_train)\n"
   ]
  },
  {
   "cell_type": "code",
   "execution_count": 514,
   "id": "182eefc0",
   "metadata": {},
   "outputs": [
    {
     "name": "stdout",
     "output_type": "stream",
     "text": [
      "Validation roc_auc_score 1.0\n"
     ]
    }
   ],
   "source": [
    "print(\"Validation roc_auc_score\",roc_auc_score(Y_val,random_forest_up.predict_proba(X_val)[:,1] ))"
   ]
  },
  {
   "cell_type": "code",
   "execution_count": 515,
   "id": "d9cbc13a",
   "metadata": {},
   "outputs": [],
   "source": [
    "feature =pd.DataFrame(random_forest_up.feature_importances_,columns=[\"Impotance\"])\n",
    "feature[\"features\"]= random_forest_up.feature_names_in_\n",
    "feature = feature.sort_values(by = \"Impotance\",ascending=False)"
   ]
  },
  {
   "cell_type": "code",
   "execution_count": null,
   "id": "e21c3bad",
   "metadata": {},
   "outputs": [],
   "source": [
    "Y_pred = random_forest_up.predict_proba(test)[:,1]\n",
    "sample[\"isFraud\"] = Y_pred\n",
    "sample.to_csv(\"Baseline_uprandomforest.csv\",index = False)"
   ]
  },
  {
   "cell_type": "code",
   "execution_count": 529,
   "id": "1b48a65e",
   "metadata": {},
   "outputs": [
    {
     "data": {
      "image/png": "[encoded data removed]",
      "text/plain": [
       "<Figure size 1152x1152 with 1 Axes>"
      ]
     },
     "metadata": {},
     "output_type": "display_data"
    }
   ],
   "source": [
    "plt.figure(figsize=(16, 16))\n",
    "sns.barplot(data=feature[:20], x='Impotance', y='features');\n"
   ]
  },
  {
   "cell_type": "markdown",
   "id": "c5b83e1b",
   "metadata": {},
   "source": [
    "## Kaggle Score : 0.898136 "
   ]
  }
 ],
 "metadata": {
  "kernelspec": {
   "display_name": "Python 3 (ipykernel)",
   "language": "python",
   "name": "python3"
  },
  "language_info": {
   "codemirror_mode": {
    "name": "ipython",
    "version": 3
   },
   "file_extension": ".py",
   "mimetype": "text/x-python",
   "name": "python",
   "nbconvert_exporter": "python",
   "pygments_lexer": "ipython3",
   "version": "3.8.7"
  }
 },
 "nbformat": 4,
 "nbformat_minor": 5
}
