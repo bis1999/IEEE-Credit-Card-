{
 "cells": [
  {
   "cell_type": "code",
   "execution_count": 74,
   "id": "d3049197",
   "metadata": {},
   "outputs": [],
   "source": [
    "import numpy as np # linear algebra\n",
    "import pandas as pd # data processing, CSV file I/O (e.g. pd.read_csv)\n",
    "\n",
    "import os\n",
    "\n",
    "\n",
    "from sklearn import preprocessing\n",
    "import xgboost as xgb\n",
    "\n",
    "from sklearn.ensemble import RandomForestClassifier\n",
    "from sklearn.model_selection import train_test_split\n",
    "from sklearn import metrics\n",
    "\n",
    "import matplotlib.pyplot as plt\n",
    "import seaborn as sns\n",
    "from sklearn.ensemble import RandomForestClassifier, RandomForestRegressor\n",
    "from sklearn.model_selection import train_test_split\n",
    "import os\n",
    "from pandas_summary import DataFrameSummary\n",
    "from matplotlib import pyplot as plt\n",
    "import math\n",
    "\n",
    "from sklearn.model_selection import train_test_split\n",
    "from sklearn import metrics\n",
    "from sklearn import tree\n",
    "from sklearn.tree import DecisionTreeClassifier, export_graphviz\n",
    "import graphviz\n",
    "import re\n",
    "\n",
    "import shap\n",
    "import eli5\n",
    "from eli5.sklearn import PermutationImportance\n",
    "from tqdm import tqdm\n",
    "from sklearn.preprocessing import LabelEncoder\n",
    "from sklearn.model_selection import StratifiedKFold, KFold, TimeSeriesSplit, train_test_split\n",
    "\n",
    "\n",
    "from sklearn.metrics import roc_auc_score\n",
    "import time"
   ]
  },
  {
   "cell_type": "code",
   "execution_count": 3,
   "id": "5fb08587",
   "metadata": {
    "scrolled": false
   },
   "outputs": [
    {
     "name": "stderr",
     "output_type": "stream",
     "text": [
      "Columns (11,14) have mixed types.Specify dtype option on import or set low_memory=False.\n",
      "Columns (13) have mixed types.Specify dtype option on import or set low_memory=False.\n"
     ]
    }
   ],
   "source": [
    "train = pd.read_csv(\"Modeltrain.csv\")\n",
    "test = pd.read_csv(\"Modeltest.csv\")"
   ]
  },
  {
   "cell_type": "markdown",
   "id": "4abfc944",
   "metadata": {},
   "source": [
    "<img src=\"feature importance.png\">"
   ]
  },
  {
   "cell_type": "code",
   "execution_count": 29,
   "id": "9726969c",
   "metadata": {},
   "outputs": [],
   "source": [
    "train[\"card1_median_amt\"] = train[\"card1\"].map(train.groupby([\"card1\"])[\"TransactionAmt\"].median())\n",
    "test[\"card1_median_amt\"] = test[\"card1\"].map(test.groupby([\"card1\"])[\"TransactionAmt\"].median())\n",
    "\n",
    "train[\"card2_median_amt\"] = train[\"card2\"].map(train.groupby([\"card2\"])[\"TransactionAmt\"].median())\n",
    "test[\"card2_median_amt\"] = test[\"card2\"].map(test.groupby([\"card2\"])[\"TransactionAmt\"].median())\n",
    "\n",
    "train[\"card3_median_amt\"] = train[\"card3\"].map(train.groupby([\"card3\"])[\"TransactionAmt\"].median())\n",
    "test[\"card3_median_amt\"] = test[\"card3\"].map(test.groupby([\"card3\"])[\"TransactionAmt\"].median())\n",
    "\n",
    "train[\"card4_median_amt\"] = train[\"card4\"].map(train.groupby([\"card4\"])[\"TransactionAmt\"].median())\n",
    "test[\"card4_median_amt\"] = test[\"card4\"].map(test.groupby([\"card4\"])[\"TransactionAmt\"].median())\n",
    "\n",
    "train[\"card5_median_amt\"] = train[\"card5\"].map(train.groupby([\"card5\"])[\"TransactionAmt\"].median())\n",
    "test[\"card5_median_amt\"] = test[\"card5\"].map(test.groupby([\"card5\"])[\"TransactionAmt\"].median())\n",
    "\n",
    "\n",
    "train[\"card6_median_amt\"] = train[\"card6\"].map(train.groupby([\"card6\"])[\"TransactionAmt\"].median())\n",
    "test[\"card6_median_amt\"] = test[\"card6\"].map(test.groupby([\"card6\"])[\"TransactionAmt\"].median())"
   ]
  },
  {
   "cell_type": "code",
   "execution_count": 30,
   "id": "1e302ca5",
   "metadata": {},
   "outputs": [],
   "source": [
    "train[\"card1_addr1\"] = train[[\"card1\",\"addr1\"]].apply(lambda x: str(x[\"card1\"]) + \"_\" + str(x[\"addr1\"]),axis=1)\n",
    "test[\"card1_addr1\"] = test[[\"card1\",\"addr1\"]].apply(lambda x: str(x[\"card1\"]) + \"_\" + str(x[\"addr1\"]),axis=1)\n",
    "\n",
    "\n",
    "train[\"card2_addr1\"] = train[[\"card2\",\"addr1\"]].apply(lambda x: str(x[\"card2\"]) + \"_\" + str(x[\"addr1\"]),axis=1)\n",
    "test[\"card2_addr1\"] = test[[\"card2\",\"addr1\"]].apply(lambda x: str(x[\"card2\"]) + \"_\" + str(x[\"addr1\"]),axis=1)\n",
    "\n",
    "train[\"card3_addr1\"] = train[[\"card3\",\"addr1\"]].apply(lambda x: str(x[\"card3\"]) + \"_\" + str(x[\"addr1\"]),axis=1)\n",
    "test[\"card3_addr1\"] = test[[\"card3\",\"addr1\"]].apply(lambda x: str(x[\"card3\"]) + \"_\" + str(x[\"addr1\"]),axis=1)\n",
    "\n",
    "\n",
    "\n",
    "train[\"card4_addr1\"] = train[[\"card4\",\"addr1\"]].apply(lambda x: str(x[\"card4\"]) + \"_\" + str(x[\"addr1\"]),axis=1)\n",
    "test[\"card4_addr1\"] = test[[\"card4\",\"addr1\"]].apply(lambda x: str(x[\"card4\"]) + \"_\" + str(x[\"addr1\"]),axis=1)\n",
    "\n",
    "\n",
    "train[\"card5_addr1\"] = train[[\"card5\",\"addr1\"]].apply(lambda x: str(x[\"card5\"]) + \"_\" + str(x[\"addr1\"]),axis=1)\n",
    "test[\"card5_addr1\"] = test[[\"card5\",\"addr1\"]].apply(lambda x: str(x[\"card5\"]) + \"_\" + str(x[\"addr1\"]),axis=1)\n",
    "\n",
    "\n",
    "train[\"card6_addr1\"] = train[[\"card6\",\"addr1\"]].apply(lambda x: str(x[\"card6\"]) + \"_\" + str(x[\"addr1\"]),axis=1)\n",
    "test[\"card6_addr1\"] = test[[\"card6\",\"addr1\"]].apply(lambda x: str(x[\"card6\"]) + \"_\" + str(x[\"addr1\"]),axis=1)"
   ]
  },
  {
   "cell_type": "code",
   "execution_count": 40,
   "id": "ad1d2a86",
   "metadata": {},
   "outputs": [],
   "source": [
    "train[\"D15_median_amt\"] = train[\"D15\"].map(train.groupby([\"D15\"])[\"TransactionAmt\"].median())\n",
    "test[\"D15_median_amt\"] = test[\"D15\"].map(test.groupby([\"D15\"])[\"TransactionAmt\"].median())"
   ]
  },
  {
   "cell_type": "code",
   "execution_count": 41,
   "id": "2c355d4c",
   "metadata": {},
   "outputs": [],
   "source": [
    "train[\"C13_median_amt\"] = train[\"C13\"].map(train.groupby([\"C13\"])[\"TransactionAmt\"].median())\n",
    "test[\"C13_median_amt\"] = test[\"C13\"].map(test.groupby([\"C13\"])[\"TransactionAmt\"].median())"
   ]
  },
  {
   "cell_type": "code",
   "execution_count": 43,
   "id": "071d575e",
   "metadata": {},
   "outputs": [],
   "source": [
    "train[\"C13_D15\"] = train.apply(lambda x: str(x[\"C13\"]) + \"_\" + str(x[\"D15\"]),axis=1)\n",
    "test[\"C13_D15\"] = test.apply(lambda x: str(x[\"C13\"]) + \"_\" + str(x[\"D15\"]),axis=1)"
   ]
  },
  {
   "cell_type": "code",
   "execution_count": 49,
   "id": "b38e92c2",
   "metadata": {},
   "outputs": [],
   "source": [
    "train[\"id_01_median_amt\"] = train[\"id_01\"].map(train.groupby([\"id_01\"])[\"TransactionAmt\"].median())\n",
    "test[\"id_01_median_amt\"] = test[\"id_01\"].map(test.groupby([\"id_01\"])[\"TransactionAmt\"].median())"
   ]
  },
  {
   "cell_type": "code",
   "execution_count": 53,
   "id": "bcdbe8f1",
   "metadata": {},
   "outputs": [],
   "source": [
    "y = train[\"isFraud\"]\n",
    "train = train.drop([\"isFraud\"],axis=1)"
   ]
  },
  {
   "cell_type": "code",
   "execution_count": 54,
   "id": "54f1ce31",
   "metadata": {},
   "outputs": [
    {
     "name": "stderr",
     "output_type": "stream",
     "text": [
      "100%|████████████████████████████████████████████████████████████████████████████████| 459/459 [01:04<00:00,  7.12it/s]\n"
     ]
    }
   ],
   "source": [
    "for f in tqdm(train.columns):\n",
    "    if train[f].dtype=='object' or test[f].dtype=='object':\n",
    "        train[f] = train[f].fillna('unseen_before_label')\n",
    "        test[f] = test[f].fillna('unseen_before_label')\n",
    "        lbl = LabelEncoder()\n",
    "        lbl.fit(list(train[f].values) + list(test[f].values))\n",
    "        train[f] = lbl.transform(list(train[f].values))\n",
    "        test[f] = lbl.transform(list(test[f].values))\n",
    "   "
   ]
  },
  {
   "cell_type": "code",
   "execution_count": null,
   "id": "0a2afbdc",
   "metadata": {},
   "outputs": [],
   "source": [
    "train = train.rename(columns = lambda x:re.sub('[^A-Za-z0-9_]+', '', x))\n",
    "test = test.rename(columns = lambda x:re.sub('[^A-Za-z0-9_]+', '', x))\n"
   ]
  },
  {
   "cell_type": "code",
   "execution_count": 75,
   "id": "d698879a",
   "metadata": {},
   "outputs": [],
   "source": [
    "\n",
    "from sklearn.utils import resample\n",
    "from xgboost import XGBClassifier\n",
    "from sklearn.metrics import roc_auc_score,precision_recall_curve,roc_curve\n",
    "from sklearn.model_selection import train_test_split\n",
    "from sklearn.manifold import TSNE\n",
    "from sklearn.decomposition import PCA, TruncatedSVD\n",
    "import time\n",
    "import matplotlib.patches as mpatches\n",
    "from sklearn.metrics import confusion_matrix"
   ]
  },
  {
   "cell_type": "code",
   "execution_count": 76,
   "id": "252357cd",
   "metadata": {},
   "outputs": [],
   "source": [
    "X=pd.concat([train,y],axis=1)\n",
    "not_fraud=X[X.isFraud==0]\n",
    "fraud=X[X.isFraud==1]"
   ]
  },
  {
   "cell_type": "code",
   "execution_count": 77,
   "id": "db1a6307",
   "metadata": {},
   "outputs": [],
   "source": [
    "# upsample minority\n",
    "fraud_upsampled = resample(fraud,\n",
    "                          replace=True, # sample with replacement\n",
    "                          n_samples=len(not_fraud), # match number in majority class\n",
    "                          random_state=27)\n",
    "upsampled = pd.concat([not_fraud, fraud_upsampled])"
   ]
  },
  {
   "cell_type": "code",
   "execution_count": 78,
   "id": "45cd1cef",
   "metadata": {},
   "outputs": [],
   "source": [
    "X_train, X_val, Y_train, Y_val = train_test_split(train,y, \n",
    "                                                    test_size=0.30, \n",
    "                                                    random_state=42)"
   ]
  },
  {
   "cell_type": "code",
   "execution_count": 79,
   "id": "d895f920",
   "metadata": {},
   "outputs": [
    {
     "data": {
      "text/plain": [
       "LGBMClassifier()"
      ]
     },
     "execution_count": 79,
     "metadata": {},
     "output_type": "execute_result"
    }
   ],
   "source": [
    "import lightgbm\n",
    "from lightgbm import LGBMClassifier\n",
    "LGBMmodel = LGBMClassifier()\n",
    "LGBMmodel.fit(X_train,Y_train)"
   ]
  },
  {
   "cell_type": "code",
   "execution_count": 81,
   "id": "b89479c8",
   "metadata": {},
   "outputs": [
    {
     "name": "stdout",
     "output_type": "stream",
     "text": [
      "Validation roc_auc_score 0.9320402029306114\n"
     ]
    }
   ],
   "source": [
    "print(\"Validation roc_auc_score\",roc_auc_score(Y_val,LGBMmodel.predict_proba(X_val)[:,1] ))"
   ]
  },
  {
   "cell_type": "code",
   "execution_count": 65,
   "id": "7862f8f5",
   "metadata": {},
   "outputs": [],
   "source": []
  },
  {
   "cell_type": "code",
   "execution_count": 82,
   "id": "9c52e138",
   "metadata": {},
   "outputs": [],
   "source": [
    "sun = pd.read_csv(\"Subxg.csv\")\n",
    "sun[\"isFraud\"] = LGBMmodel.predict_proba(test)[:,1]\n",
    "sun.to_csv(\"try.csv\",index=False)"
   ]
  },
  {
   "cell_type": "code",
   "execution_count": 83,
   "id": "88886efa",
   "metadata": {},
   "outputs": [],
   "source": []
  },
  {
   "cell_type": "code",
   "execution_count": 84,
   "id": "a819bf05",
   "metadata": {},
   "outputs": [],
   "source": [
    "clf = xgb.XGBClassifier(\n",
    "    n_estimators=500,\n",
    "    max_depth=9,\n",
    "    learning_rate=0.05,\n",
    "    subsample=0.9,\n",
    "    colsample_bytree=0.9,\n",
    "    missing=-999,\n",
    "    random_state=2019,\n",
    "    tree_method='gpu_hist'  # THE MAGICAL PARAMETER\n",
    ")"
   ]
  },
  {
   "cell_type": "code",
   "execution_count": 85,
   "id": "ac332bea",
   "metadata": {},
   "outputs": [
    {
     "name": "stderr",
     "output_type": "stream",
     "text": [
      "The use of label encoder in XGBClassifier is deprecated and will be removed in a future release. To remove this warning, do the following: 1) Pass option use_label_encoder=False when constructing XGBClassifier object; and 2) Encode your labels (y) as integers starting with 0, i.e. 0, 1, 2, ..., [num_class - 1].\n"
     ]
    },
    {
     "name": "stdout",
     "output_type": "stream",
     "text": [
      "[03:51:25] WARNING: C:/Users/Administrator/workspace/xgboost-win64_release_1.5.1/src/learner.cc:1115: Starting in XGBoost 1.3.0, the default evaluation metric used with the objective 'binary:logistic' was changed from 'error' to 'logloss'. Explicitly set eval_metric if you'd like to restore the old behavior.\n",
      "Wall time: 4min 48s\n"
     ]
    },
    {
     "data": {
      "text/plain": [
       "XGBClassifier(base_score=0.5, booster='gbtree', colsample_bylevel=1,\n",
       "              colsample_bynode=1, colsample_bytree=0.9,\n",
       "              enable_categorical=False, gamma=0, gpu_id=0, importance_type=None,\n",
       "              interaction_constraints='', learning_rate=0.05, max_delta_step=0,\n",
       "              max_depth=9, min_child_weight=1, missing=-999,\n",
       "              monotone_constraints='()', n_estimators=500, n_jobs=12,\n",
       "              num_parallel_tree=1, predictor='auto', random_state=2019,\n",
       "              reg_alpha=0, reg_lambda=1, scale_pos_weight=1, subsample=0.9,\n",
       "              tree_method='gpu_hist', validate_parameters=1, verbosity=None)"
      ]
     },
     "execution_count": 85,
     "metadata": {},
     "output_type": "execute_result"
    }
   ],
   "source": [
    "%time clf.fit(X_train, Y_train)"
   ]
  },
  {
   "cell_type": "code",
   "execution_count": 86,
   "id": "a64b5fd8",
   "metadata": {},
   "outputs": [
    {
     "name": "stdout",
     "output_type": "stream",
     "text": [
      "Validation roc_auc_score 0.9637035048638788\n"
     ]
    }
   ],
   "source": [
    "print(\"Validation roc_auc_score\",roc_auc_score(Y_val,clf.predict_proba(X_val)[:,1] ))"
   ]
  },
  {
   "cell_type": "code",
   "execution_count": null,
   "id": "40092a09",
   "metadata": {},
   "outputs": [],
   "source": [
    "\n",
    "sun[\"isFraud\"] = clf.predict_proba(test)[:,1]\n",
    "sun.to_csv(\"XGB_fe.csv\",index=False)"
   ]
  },
  {
   "cell_type": "code",
   "execution_count": 88,
   "id": "329d0230",
   "metadata": {},
   "outputs": [
    {
     "data": {
      "text/plain": [
       "<AxesSubplot:>"
      ]
     },
     "execution_count": 88,
     "metadata": {},
     "output_type": "execute_result"
    },
    {
     "data": {
      "image/png": "[encoded data removed]",
      "text/plain": [
       "<Figure size 1440x720 with 1 Axes>"
      ]
     },
     "metadata": {
      "needs_background": "light"
     },
     "output_type": "display_data"
    }
   ],
   "source": [
    "feature_important = clf.get_booster().get_score(importance_type='weight')\n",
    "keys = list(feature_important.keys())\n",
    "values = list(feature_important.values())\n",
    "\n",
    "data = pd.DataFrame(data=values, index=keys, columns=[\"score\"]).sort_values(by = \"score\", ascending=False)\n",
    "data.nlargest(40, columns=\"score\").plot(kind='barh', figsize = (20,10)) ## plot top 40 features"
   ]
  },
  {
   "cell_type": "markdown",
   "id": "70a774c8",
   "metadata": {},
   "source": [
    "### Public AUC-ROC score increased to 0.924443"
   ]
  }
 ],
 "metadata": {
  "kernelspec": {
   "display_name": "Python 3 (ipykernel)",
   "language": "python",
   "name": "python3"
  },
  "language_info": {
   "codemirror_mode": {
    "name": "ipython",
    "version": 3
   },
   "file_extension": ".py",
   "mimetype": "text/x-python",
   "name": "python",
   "nbconvert_exporter": "python",
   "pygments_lexer": "ipython3",
   "version": "3.8.7"
  }
 },
 "nbformat": 4,
 "nbformat_minor": 5
}
