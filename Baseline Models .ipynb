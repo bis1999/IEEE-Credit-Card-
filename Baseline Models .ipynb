{
 "cells": [
  {
   "cell_type": "markdown",
   "id": "89567df3",
   "metadata": {},
   "source": [
    "### Objectives\n",
    "- The objective of this notebook is to start with modelling the data with Random Forest \n",
    "- Explain Random Forest "
   ]
  },
  {
   "cell_type": "code",
   "execution_count": 1,
   "id": "de7088c6",
   "metadata": {},
   "outputs": [],
   "source": [
    "import numpy as np # linear algebra\n",
    "import pandas as pd # data processing, CSV file I/O (e.g. pd.read_csv)\n",
    "\n",
    "import os\n",
    "\n",
    "\n",
    "from sklearn import preprocessing\n",
    "import xgboost as xgb\n",
    "\n",
    "from sklearn.ensemble import RandomForestClassifier\n",
    "from sklearn.model_selection import train_test_split\n",
    "from sklearn import metrics\n",
    "\n",
    "import matplotlib.pyplot as plt\n",
    "import seaborn as sns\n",
    "from sklearn.ensemble import RandomForestClassifier, RandomForestRegressor\n",
    "from sklearn.model_selection import train_test_split\n",
    "import os\n",
    "from pandas_summary import DataFrameSummary\n",
    "from matplotlib import pyplot as plt\n",
    "import math\n",
    "\n",
    "from sklearn.model_selection import train_test_split\n",
    "from sklearn import metrics\n",
    "from sklearn import tree\n",
    "from sklearn.tree import DecisionTreeClassifier, export_graphviz\n",
    "import graphviz\n",
    "import re\n",
    "\n",
    "import shap\n",
    "import eli5\n",
    "from eli5.sklearn import PermutationImportance\n",
    "from tqdm import tqdm\n",
    "from sklearn.preprocessing import LabelEncoder\n",
    "from sklearn.model_selection import StratifiedKFold, KFold, TimeSeriesSplit, train_test_split\n",
    "\n",
    "\n",
    "from sklearn.metrics import roc_auc_score\n",
    "import time"
   ]
  },
  {
   "cell_type": "code",
   "execution_count": 2,
   "id": "b544f844",
   "metadata": {},
   "outputs": [
    {
     "name": "stderr",
     "output_type": "stream",
     "text": [
      "Columns (11,14) have mixed types.Specify dtype option on import or set low_memory=False.\n",
      "Columns (13) have mixed types.Specify dtype option on import or set low_memory=False.\n"
     ]
    }
   ],
   "source": [
    "train = pd.read_csv(\"Modeltrain.csv\")\n",
    "test = pd.read_csv(\"Modeltest.csv\")"
   ]
  },
  {
   "cell_type": "markdown",
   "id": "120fff61",
   "metadata": {},
   "source": [
    "### Filling nan data "
   ]
  },
  {
   "cell_type": "code",
   "execution_count": 3,
   "id": "b1211677",
   "metadata": {},
   "outputs": [],
   "source": [
    "# columns names \n",
    "def columns_names(base_str,start_int,end_int):\n",
    "    return [base_str + str(i) for i in range(start_int,end_int+1)]"
   ]
  },
  {
   "cell_type": "code",
   "execution_count": 4,
   "id": "a853093d",
   "metadata": {},
   "outputs": [],
   "source": [
    "def imputer(df,col,type_):\n",
    "    if type_ == \"mean\":\n",
    "        df[col]=df[col].fillna(df[col].mean()[0])\n",
    "    elif type_ == \"median\":\n",
    "        df[col]=df[col].fillna(df[col].median()[0])\n",
    "    elif type_ == \"mode\":\n",
    "        df[col]=df[col].fillna(df[col].mode()[0])\n",
    "    \n",
    "    return df  "
   ]
  },
  {
   "cell_type": "code",
   "execution_count": 5,
   "id": "1d515ba8",
   "metadata": {},
   "outputs": [],
   "source": [
    "train[[\"P_emaildomain_bin\",\"P_emaildomain_suffix\",\"R_emaildomain_bin\",\"R_emaildomain_suffix\"]] = train[[\"P_emaildomain_bin\",\"P_emaildomain_suffix\",\"R_emaildomain_bin\",\"R_emaildomain_suffix\"]].fillna(\"Unknown\")\n",
    "test[[\"P_emaildomain_bin\",\"P_emaildomain_suffix\",\"R_emaildomain_bin\",\"R_emaildomain_suffix\"]] = test[[\"P_emaildomain_bin\",\"P_emaildomain_suffix\",\"R_emaildomain_bin\",\"R_emaildomain_suffix\"]].fillna(\"Unknown\")"
   ]
  },
  {
   "cell_type": "code",
   "execution_count": 6,
   "id": "f15a66c4",
   "metadata": {},
   "outputs": [],
   "source": [
    "V_vars = columns_names(\"V\",1,339)"
   ]
  },
  {
   "cell_type": "code",
   "execution_count": 7,
   "id": "ee3cd92f",
   "metadata": {},
   "outputs": [],
   "source": [
    "train[V_vars] = train[V_vars].fillna(-999)\n",
    "test[V_vars] = test[V_vars].fillna(-999)"
   ]
  },
  {
   "cell_type": "code",
   "execution_count": 8,
   "id": "42efd60b",
   "metadata": {},
   "outputs": [
    {
     "name": "stdout",
     "output_type": "stream",
     "text": [
      "Train shape (590540, 444)\n",
      "Test shape (506691, 443)\n"
     ]
    }
   ],
   "source": [
    "print(\"Train shape\",train.shape)\n",
    "print(\"Test shape\",test.shape)"
   ]
  },
  {
   "cell_type": "code",
   "execution_count": 9,
   "id": "497acb9f",
   "metadata": {},
   "outputs": [],
   "source": [
    "C = columns_names(\"C\",1,14)\n",
    "for i in C:\n",
    "    test = imputer(test,i,\"mode\")"
   ]
  },
  {
   "cell_type": "markdown",
   "id": "00c01069",
   "metadata": {},
   "source": [
    "## Data Preprocessing "
   ]
  },
  {
   "cell_type": "code",
   "execution_count": 10,
   "id": "e0221699",
   "metadata": {},
   "outputs": [],
   "source": [
    "is_Fruad = train[\"isFraud\"]\n",
    "train = train.drop([\"isFraud\"],axis=1)"
   ]
  },
  {
   "cell_type": "code",
   "execution_count": 11,
   "id": "18c2e5bb",
   "metadata": {},
   "outputs": [
    {
     "name": "stderr",
     "output_type": "stream",
     "text": [
      "100%|████████████████████████████████████████████████████████████████████████████████| 443/443 [00:33<00:00, 13.04it/s]\n"
     ]
    }
   ],
   "source": [
    "for f in tqdm(train.columns):\n",
    "    if train[f].dtype=='object' or test[f].dtype=='object':\n",
    "        train[f] = train[f].fillna('unseen_before_label')\n",
    "        test[f] = test[f].fillna('unseen_before_label')\n",
    "        lbl = LabelEncoder()\n",
    "        lbl.fit(list(train[f].values) + list(test[f].values))\n",
    "        train[f] = lbl.transform(list(train[f].values))\n",
    "        test[f] = lbl.transform(list(test[f].values))\n",
    "   \n",
    "   "
   ]
  },
  {
   "cell_type": "code",
   "execution_count": 12,
   "id": "8700350d",
   "metadata": {
    "scrolled": true
   },
   "outputs": [
    {
     "name": "stdout",
     "output_type": "stream",
     "text": [
      "train.shape : (590540, 443), test.shape : (506691, 443)\n"
     ]
    }
   ],
   "source": [
    " print(f'train.shape : {train.shape}, test.shape : {test.shape}')"
   ]
  },
  {
   "cell_type": "code",
   "execution_count": 13,
   "id": "2807c76b",
   "metadata": {},
   "outputs": [],
   "source": [
    "train = train.drop([\"Unnamed: 0\",\"Unnamed: 0.1\",\"TransactionID\",\"TransactionID\"],axis=1)\n",
    "test = test.drop([\"Unnamed: 0\",\"Unnamed: 0.1\",\"TransactionID\",\"TransactionID\"],axis=1)\n",
    "\n",
    "train = train.drop([\"TransactionAmt_log\",\"TransactionDT\",\"trans_dt\"],axis=1)\n",
    "test = test.drop([\"TransactionAmt_log\",\"TransactionDT\",\"trans_dt\"],axis=1)"
   ]
  },
  {
   "cell_type": "markdown",
   "id": "ce185c89",
   "metadata": {},
   "source": [
    "### Tackling the Imbalance Class"
   ]
  },
  {
   "cell_type": "markdown",
   "id": "aa74d7a8",
   "metadata": {},
   "source": [
    "#### Oversample minority class "
   ]
  },
  {
   "cell_type": "code",
   "execution_count": 14,
   "id": "b7540b83",
   "metadata": {},
   "outputs": [],
   "source": [
    "\n",
    "from sklearn.utils import resample\n",
    "from xgboost import XGBClassifier\n",
    "from sklearn.metrics import roc_auc_score,precision_recall_curve,roc_curve\n",
    "from sklearn.model_selection import train_test_split\n",
    "from sklearn.manifold import TSNE\n",
    "from sklearn.decomposition import PCA, TruncatedSVD\n",
    "import time\n",
    "import matplotlib.patches as mpatches\n",
    "from sklearn.metrics import confusion_matrix"
   ]
  },
  {
   "cell_type": "code",
   "execution_count": 274,
   "id": "e5690020",
   "metadata": {},
   "outputs": [],
   "source": [
    "X=pd.concat([train,is_Fruad],axis=1)\n",
    "not_fraud=X[X.isFraud==0]\n",
    "fraud=X[X.isFraud==1]"
   ]
  },
  {
   "cell_type": "code",
   "execution_count": 275,
   "id": "1dfac357",
   "metadata": {},
   "outputs": [
    {
     "data": {
      "text/html": [
       "<div>\n",
       "<style scoped>\n",
       "    .dataframe tbody tr th:only-of-type {\n",
       "        vertical-align: middle;\n",
       "    }\n",
       "\n",
       "    .dataframe tbody tr th {\n",
       "        vertical-align: top;\n",
       "    }\n",
       "\n",
       "    .dataframe thead th {\n",
       "        text-align: right;\n",
       "    }\n",
       "</style>\n",
       "<table border=\"1\" class=\"dataframe\">\n",
       "  <thead>\n",
       "    <tr style=\"text-align: right;\">\n",
       "      <th></th>\n",
       "      <th>TransactionAmt</th>\n",
       "      <th>ProductCD</th>\n",
       "      <th>card1</th>\n",
       "      <th>card2</th>\n",
       "      <th>card3</th>\n",
       "      <th>card4</th>\n",
       "      <th>card5</th>\n",
       "      <th>card6</th>\n",
       "      <th>addr1</th>\n",
       "      <th>addr2</th>\n",
       "      <th>...</th>\n",
       "      <th>freq_C6</th>\n",
       "      <th>freq_C7</th>\n",
       "      <th>freq_C8</th>\n",
       "      <th>freq_C9</th>\n",
       "      <th>freq_C10</th>\n",
       "      <th>freq_C11</th>\n",
       "      <th>freq_C12</th>\n",
       "      <th>freq_C13</th>\n",
       "      <th>freq_C14</th>\n",
       "      <th>isFraud</th>\n",
       "    </tr>\n",
       "  </thead>\n",
       "  <tbody>\n",
       "    <tr>\n",
       "      <th>0</th>\n",
       "      <td>68.50</td>\n",
       "      <td>4</td>\n",
       "      <td>716</td>\n",
       "      <td>68</td>\n",
       "      <td>3</td>\n",
       "      <td>1</td>\n",
       "      <td>14</td>\n",
       "      <td>1</td>\n",
       "      <td>17</td>\n",
       "      <td>4</td>\n",
       "      <td>...</td>\n",
       "      <td>0.578372</td>\n",
       "      <td>0.885871</td>\n",
       "      <td>0.758064</td>\n",
       "      <td>0.387676</td>\n",
       "      <td>0.767843</td>\n",
       "      <td>0.151856</td>\n",
       "      <td>0.828393</td>\n",
       "      <td>0.337550</td>\n",
       "      <td>0.542197</td>\n",
       "      <td>0</td>\n",
       "    </tr>\n",
       "    <tr>\n",
       "      <th>1</th>\n",
       "      <td>29.00</td>\n",
       "      <td>4</td>\n",
       "      <td>426</td>\n",
       "      <td>39</td>\n",
       "      <td>3</td>\n",
       "      <td>2</td>\n",
       "      <td>1</td>\n",
       "      <td>1</td>\n",
       "      <td>18</td>\n",
       "      <td>4</td>\n",
       "      <td>...</td>\n",
       "      <td>0.578372</td>\n",
       "      <td>0.885871</td>\n",
       "      <td>0.758064</td>\n",
       "      <td>0.311232</td>\n",
       "      <td>0.767843</td>\n",
       "      <td>0.659891</td>\n",
       "      <td>0.828393</td>\n",
       "      <td>0.337550</td>\n",
       "      <td>0.542197</td>\n",
       "      <td>0</td>\n",
       "    </tr>\n",
       "    <tr>\n",
       "      <th>2</th>\n",
       "      <td>59.00</td>\n",
       "      <td>4</td>\n",
       "      <td>505</td>\n",
       "      <td>51</td>\n",
       "      <td>3</td>\n",
       "      <td>3</td>\n",
       "      <td>20</td>\n",
       "      <td>2</td>\n",
       "      <td>20</td>\n",
       "      <td>4</td>\n",
       "      <td>...</td>\n",
       "      <td>0.578372</td>\n",
       "      <td>0.885871</td>\n",
       "      <td>0.758064</td>\n",
       "      <td>0.387676</td>\n",
       "      <td>0.767843</td>\n",
       "      <td>0.659891</td>\n",
       "      <td>0.828393</td>\n",
       "      <td>0.337550</td>\n",
       "      <td>0.542197</td>\n",
       "      <td>0</td>\n",
       "    </tr>\n",
       "    <tr>\n",
       "      <th>3</th>\n",
       "      <td>50.00</td>\n",
       "      <td>4</td>\n",
       "      <td>373</td>\n",
       "      <td>66</td>\n",
       "      <td>3</td>\n",
       "      <td>2</td>\n",
       "      <td>2</td>\n",
       "      <td>2</td>\n",
       "      <td>26</td>\n",
       "      <td>4</td>\n",
       "      <td>...</td>\n",
       "      <td>0.030150</td>\n",
       "      <td>0.885871</td>\n",
       "      <td>0.758064</td>\n",
       "      <td>0.387676</td>\n",
       "      <td>0.767843</td>\n",
       "      <td>0.659891</td>\n",
       "      <td>0.828393</td>\n",
       "      <td>0.005175</td>\n",
       "      <td>0.542197</td>\n",
       "      <td>0</td>\n",
       "    </tr>\n",
       "    <tr>\n",
       "      <th>4</th>\n",
       "      <td>50.00</td>\n",
       "      <td>1</td>\n",
       "      <td>716</td>\n",
       "      <td>56</td>\n",
       "      <td>3</td>\n",
       "      <td>2</td>\n",
       "      <td>1</td>\n",
       "      <td>1</td>\n",
       "      <td>30</td>\n",
       "      <td>4</td>\n",
       "      <td>...</td>\n",
       "      <td>0.578372</td>\n",
       "      <td>0.885871</td>\n",
       "      <td>0.177793</td>\n",
       "      <td>0.311232</td>\n",
       "      <td>0.169728</td>\n",
       "      <td>0.659891</td>\n",
       "      <td>0.828393</td>\n",
       "      <td>0.337550</td>\n",
       "      <td>0.542197</td>\n",
       "      <td>0</td>\n",
       "    </tr>\n",
       "    <tr>\n",
       "      <th>...</th>\n",
       "      <td>...</td>\n",
       "      <td>...</td>\n",
       "      <td>...</td>\n",
       "      <td>...</td>\n",
       "      <td>...</td>\n",
       "      <td>...</td>\n",
       "      <td>...</td>\n",
       "      <td>...</td>\n",
       "      <td>...</td>\n",
       "      <td>...</td>\n",
       "      <td>...</td>\n",
       "      <td>...</td>\n",
       "      <td>...</td>\n",
       "      <td>...</td>\n",
       "      <td>...</td>\n",
       "      <td>...</td>\n",
       "      <td>...</td>\n",
       "      <td>...</td>\n",
       "      <td>...</td>\n",
       "      <td>...</td>\n",
       "      <td>...</td>\n",
       "    </tr>\n",
       "    <tr>\n",
       "      <th>590535</th>\n",
       "      <td>49.00</td>\n",
       "      <td>4</td>\n",
       "      <td>583</td>\n",
       "      <td>68</td>\n",
       "      <td>3</td>\n",
       "      <td>3</td>\n",
       "      <td>33</td>\n",
       "      <td>2</td>\n",
       "      <td>14</td>\n",
       "      <td>4</td>\n",
       "      <td>...</td>\n",
       "      <td>0.083087</td>\n",
       "      <td>0.885871</td>\n",
       "      <td>0.758064</td>\n",
       "      <td>0.131793</td>\n",
       "      <td>0.767843</td>\n",
       "      <td>0.659891</td>\n",
       "      <td>0.828393</td>\n",
       "      <td>0.055937</td>\n",
       "      <td>0.158910</td>\n",
       "      <td>0</td>\n",
       "    </tr>\n",
       "    <tr>\n",
       "      <th>590536</th>\n",
       "      <td>39.50</td>\n",
       "      <td>4</td>\n",
       "      <td>716</td>\n",
       "      <td>18</td>\n",
       "      <td>3</td>\n",
       "      <td>2</td>\n",
       "      <td>32</td>\n",
       "      <td>2</td>\n",
       "      <td>6</td>\n",
       "      <td>4</td>\n",
       "      <td>...</td>\n",
       "      <td>0.578372</td>\n",
       "      <td>0.885871</td>\n",
       "      <td>0.758064</td>\n",
       "      <td>0.387676</td>\n",
       "      <td>0.767843</td>\n",
       "      <td>0.659891</td>\n",
       "      <td>0.828393</td>\n",
       "      <td>0.337550</td>\n",
       "      <td>0.542197</td>\n",
       "      <td>0</td>\n",
       "    </tr>\n",
       "    <tr>\n",
       "      <th>590537</th>\n",
       "      <td>30.95</td>\n",
       "      <td>4</td>\n",
       "      <td>84</td>\n",
       "      <td>68</td>\n",
       "      <td>3</td>\n",
       "      <td>2</td>\n",
       "      <td>32</td>\n",
       "      <td>2</td>\n",
       "      <td>10</td>\n",
       "      <td>4</td>\n",
       "      <td>...</td>\n",
       "      <td>0.578372</td>\n",
       "      <td>0.885871</td>\n",
       "      <td>0.758064</td>\n",
       "      <td>0.387676</td>\n",
       "      <td>0.767843</td>\n",
       "      <td>0.659891</td>\n",
       "      <td>0.828393</td>\n",
       "      <td>0.337550</td>\n",
       "      <td>0.542197</td>\n",
       "      <td>0</td>\n",
       "    </tr>\n",
       "    <tr>\n",
       "      <th>590538</th>\n",
       "      <td>117.00</td>\n",
       "      <td>4</td>\n",
       "      <td>635</td>\n",
       "      <td>50</td>\n",
       "      <td>3</td>\n",
       "      <td>2</td>\n",
       "      <td>32</td>\n",
       "      <td>2</td>\n",
       "      <td>22</td>\n",
       "      <td>4</td>\n",
       "      <td>...</td>\n",
       "      <td>0.060098</td>\n",
       "      <td>0.885871</td>\n",
       "      <td>0.758064</td>\n",
       "      <td>0.131793</td>\n",
       "      <td>0.767843</td>\n",
       "      <td>0.659891</td>\n",
       "      <td>0.129815</td>\n",
       "      <td>0.031082</td>\n",
       "      <td>0.542197</td>\n",
       "      <td>0</td>\n",
       "    </tr>\n",
       "    <tr>\n",
       "      <th>590539</th>\n",
       "      <td>280.00</td>\n",
       "      <td>4</td>\n",
       "      <td>232</td>\n",
       "      <td>9</td>\n",
       "      <td>3</td>\n",
       "      <td>2</td>\n",
       "      <td>1</td>\n",
       "      <td>1</td>\n",
       "      <td>15</td>\n",
       "      <td>4</td>\n",
       "      <td>...</td>\n",
       "      <td>0.578372</td>\n",
       "      <td>0.885871</td>\n",
       "      <td>0.758064</td>\n",
       "      <td>0.131793</td>\n",
       "      <td>0.767843</td>\n",
       "      <td>0.659891</td>\n",
       "      <td>0.828393</td>\n",
       "      <td>0.337550</td>\n",
       "      <td>0.542197</td>\n",
       "      <td>0</td>\n",
       "    </tr>\n",
       "  </tbody>\n",
       "</table>\n",
       "<p>590540 rows × 452 columns</p>\n",
       "</div>"
      ],
      "text/plain": [
       "        TransactionAmt  ProductCD  card1  card2  card3  card4  card5  card6  \\\n",
       "0                68.50          4    716     68      3      1     14      1   \n",
       "1                29.00          4    426     39      3      2      1      1   \n",
       "2                59.00          4    505     51      3      3     20      2   \n",
       "3                50.00          4    373     66      3      2      2      2   \n",
       "4                50.00          1    716     56      3      2      1      1   \n",
       "...                ...        ...    ...    ...    ...    ...    ...    ...   \n",
       "590535           49.00          4    583     68      3      3     33      2   \n",
       "590536           39.50          4    716     18      3      2     32      2   \n",
       "590537           30.95          4     84     68      3      2     32      2   \n",
       "590538          117.00          4    635     50      3      2     32      2   \n",
       "590539          280.00          4    232      9      3      2      1      1   \n",
       "\n",
       "        addr1  addr2  ...   freq_C6   freq_C7   freq_C8   freq_C9  freq_C10  \\\n",
       "0          17      4  ...  0.578372  0.885871  0.758064  0.387676  0.767843   \n",
       "1          18      4  ...  0.578372  0.885871  0.758064  0.311232  0.767843   \n",
       "2          20      4  ...  0.578372  0.885871  0.758064  0.387676  0.767843   \n",
       "3          26      4  ...  0.030150  0.885871  0.758064  0.387676  0.767843   \n",
       "4          30      4  ...  0.578372  0.885871  0.177793  0.311232  0.169728   \n",
       "...       ...    ...  ...       ...       ...       ...       ...       ...   \n",
       "590535     14      4  ...  0.083087  0.885871  0.758064  0.131793  0.767843   \n",
       "590536      6      4  ...  0.578372  0.885871  0.758064  0.387676  0.767843   \n",
       "590537     10      4  ...  0.578372  0.885871  0.758064  0.387676  0.767843   \n",
       "590538     22      4  ...  0.060098  0.885871  0.758064  0.131793  0.767843   \n",
       "590539     15      4  ...  0.578372  0.885871  0.758064  0.131793  0.767843   \n",
       "\n",
       "        freq_C11  freq_C12  freq_C13  freq_C14  isFraud  \n",
       "0       0.151856  0.828393  0.337550  0.542197        0  \n",
       "1       0.659891  0.828393  0.337550  0.542197        0  \n",
       "2       0.659891  0.828393  0.337550  0.542197        0  \n",
       "3       0.659891  0.828393  0.005175  0.542197        0  \n",
       "4       0.659891  0.828393  0.337550  0.542197        0  \n",
       "...          ...       ...       ...       ...      ...  \n",
       "590535  0.659891  0.828393  0.055937  0.158910        0  \n",
       "590536  0.659891  0.828393  0.337550  0.542197        0  \n",
       "590537  0.659891  0.828393  0.337550  0.542197        0  \n",
       "590538  0.659891  0.129815  0.031082  0.542197        0  \n",
       "590539  0.659891  0.828393  0.337550  0.542197        0  \n",
       "\n",
       "[590540 rows x 452 columns]"
      ]
     },
     "execution_count": 275,
     "metadata": {},
     "output_type": "execute_result"
    }
   ],
   "source": [
    "X"
   ]
  },
  {
   "cell_type": "code",
   "execution_count": 276,
   "id": "90c6e533",
   "metadata": {},
   "outputs": [],
   "source": [
    "# upsample minority\n",
    "fraud_upsampled = resample(fraud,\n",
    "                          replace=True, # sample with replacement\n",
    "                          n_samples=len(not_fraud), # match number in majority class\n",
    "                          random_state=27)\n",
    "upsampled = pd.concat([not_fraud, fraud_upsampled])\n"
   ]
  },
  {
   "cell_type": "code",
   "execution_count": 277,
   "id": "2b13d437",
   "metadata": {},
   "outputs": [],
   "source": [
    "y = upsampled[\"isFraud\"]"
   ]
  },
  {
   "cell_type": "code",
   "execution_count": null,
   "id": "a4723019",
   "metadata": {},
   "outputs": [],
   "source": []
  },
  {
   "cell_type": "code",
   "execution_count": 153,
   "id": "55578e25",
   "metadata": {
    "scrolled": true
   },
   "outputs": [
    {
     "data": {
      "image/png": "[encoded data removed]",
      "text/plain": [
       "<Figure size 432x288 with 1 Axes>"
      ]
     },
     "metadata": {
      "needs_background": "light"
     },
     "output_type": "display_data"
    }
   ],
   "source": [
    "y=upsampled.isFraud.value_counts()\n",
    "sns.barplot(y=y,x=[0,1])\n",
    "plt.title('upsampled data class count')\n",
    "plt.ylabel('count')\n",
    "plt.show()"
   ]
  },
  {
   "cell_type": "code",
   "execution_count": 20,
   "id": "0005a5f6",
   "metadata": {},
   "outputs": [],
   "source": [
    "y = upsampled[\"isFraud\"]\n",
    "upsampled = upsampled.drop([\"isFraud\"],axis=1)\n"
   ]
  },
  {
   "cell_type": "code",
   "execution_count": 126,
   "id": "c4d97d98",
   "metadata": {},
   "outputs": [],
   "source": [
    "X_train, X_val, Y_train, Y_val = train_test_split(upsampled,y, \n",
    "                                                    test_size=0.15, \n",
    "                                                    random_state=42)"
   ]
  },
  {
   "cell_type": "code",
   "execution_count": 36,
   "id": "3e102506",
   "metadata": {},
   "outputs": [
    {
     "data": {
      "text/plain": [
       "RandomForestClassifier(n_jobs=-1)"
      ]
     },
     "execution_count": 36,
     "metadata": {},
     "output_type": "execute_result"
    }
   ],
   "source": [
    "random_forest_up = RandomForestClassifier(n_jobs=-1)\n",
    "random_forest_up.fit(X_train,Y_train)\n"
   ]
  },
  {
   "cell_type": "code",
   "execution_count": 37,
   "id": "b2c03204",
   "metadata": {},
   "outputs": [
    {
     "name": "stdout",
     "output_type": "stream",
     "text": [
      "Validation roc_auc_score 1.0\n"
     ]
    }
   ],
   "source": [
    "print(\"Validation roc_auc_score\",roc_auc_score(Y_val,random_forest_up.predict_proba(X_val)[:,1] ))"
   ]
  },
  {
   "cell_type": "code",
   "execution_count": 38,
   "id": "7e3202c5",
   "metadata": {},
   "outputs": [],
   "source": [
    "feature =pd.DataFrame(random_forest_up.feature_importances_,columns=[\"Impotance\"])\n",
    "feature[\"features\"]= random_forest_up.feature_names_in_\n",
    "feature = feature.sort_values(by = \"Impotance\",ascending=False)"
   ]
  },
  {
   "cell_type": "code",
   "execution_count": 40,
   "id": "8dbc64f7",
   "metadata": {},
   "outputs": [],
   "source": [
    "sample = pd.read_csv(\"sample_submission.csv\")"
   ]
  },
  {
   "cell_type": "code",
   "execution_count": 41,
   "id": "73212e71",
   "metadata": {},
   "outputs": [],
   "source": [
    "sample = pd.read_csv(\"sample_submission.csv\")\n",
    "Y_pred = random_forest_up.predict_proba(test)[:,1]\n",
    "sample[\"isFraud\"] = Y_pred\n",
    "sample.to_csv(\"Baseline_uprandomforest.csv\",index = False)\n"
   ]
  },
  {
   "cell_type": "code",
   "execution_count": 42,
   "id": "8983d5a8",
   "metadata": {},
   "outputs": [
    {
     "data": {
      "image/png": "[encoded data removed]",
      "text/plain": [
       "<Figure size 1152x1152 with 1 Axes>"
      ]
     },
     "metadata": {
      "needs_background": "light"
     },
     "output_type": "display_data"
    }
   ],
   "source": [
    "plt.figure(figsize=(16, 16))\n",
    "sns.barplot(data=feature[:20], x='Impotance', y='features');\n"
   ]
  },
  {
   "cell_type": "markdown",
   "id": "e1842222",
   "metadata": {},
   "source": [
    "#### Kaggle Score : 0.898136 "
   ]
  },
  {
   "cell_type": "markdown",
   "id": "246f6696",
   "metadata": {},
   "source": [
    "## LightGBM "
   ]
  },
  {
   "cell_type": "code",
   "execution_count": 46,
   "id": "a52718a8",
   "metadata": {},
   "outputs": [],
   "source": [
    "import lightgbm\n",
    "from lightgbm import LGBMClassifier\n",
    "LGBMmodel = LGBMClassifier()\n",
    "LGBMmodel.fit(X_train,Y_train)\n"
   ]
  },
  {
   "cell_type": "code",
   "execution_count": 48,
   "id": "9a8aebd2",
   "metadata": {},
   "outputs": [
    {
     "name": "stdout",
     "output_type": "stream",
     "text": [
      "Validation roc_auc_score 0.9751077178623226\n"
     ]
    }
   ],
   "source": [
    "print(\"Validation roc_auc_score\",roc_auc_score(Y_val,LGBMmodel.predict_proba(X_val)[:,1] ))"
   ]
  },
  {
   "cell_type": "code",
   "execution_count": 49,
   "id": "a5e60850",
   "metadata": {},
   "outputs": [],
   "source": [
    "sample = pd.read_csv(\"sample_submission.csv\")\n",
    "Y_pred = LGBMmodel.predict_proba(test)[:,1]\n",
    "sample[\"isFraud\"] = Y_pred\n",
    "sample.to_csv(\"Baseline_LGBM.csv\",index = False)"
   ]
  },
  {
   "cell_type": "markdown",
   "id": "383924a0",
   "metadata": {},
   "source": [
    "### Kaggle Score 0.916946 "
   ]
  },
  {
   "cell_type": "markdown",
   "id": "fece725e",
   "metadata": {},
   "source": [
    "### Adaboost \n"
   ]
  },
  {
   "cell_type": "code",
   "execution_count": 50,
   "id": "6959df47",
   "metadata": {},
   "outputs": [
    {
     "data": {
      "text/plain": [
       "AdaBoostClassifier()"
      ]
     },
     "execution_count": 50,
     "metadata": {},
     "output_type": "execute_result"
    }
   ],
   "source": [
    "from sklearn.ensemble import AdaBoostClassifier\n",
    "modelADA = AdaBoostClassifier()\n",
    "modelADA.fit(X_train,Y_train)"
   ]
  },
  {
   "cell_type": "code",
   "execution_count": 52,
   "id": "9670fd7d",
   "metadata": {},
   "outputs": [
    {
     "name": "stdout",
     "output_type": "stream",
     "text": [
      "Validation roc_auc_score 0.8729176866666171\n"
     ]
    }
   ],
   "source": [
    "print(\"Validation roc_auc_score\",roc_auc_score(Y_val,modelADA.predict_proba(X_val)[:,1] ))"
   ]
  },
  {
   "cell_type": "code",
   "execution_count": 53,
   "id": "5735df61",
   "metadata": {},
   "outputs": [],
   "source": [
    "sample = pd.read_csv(\"sample_submission.csv\")\n",
    "Y_pred = modelADA.predict_proba(test)[:,1]\n",
    "sample[\"isFraud\"] = Y_pred\n",
    "sample.to_csv(\"Baseline_ADA.csv\",index = False)"
   ]
  },
  {
   "cell_type": "markdown",
   "id": "ca28b4bb",
   "metadata": {},
   "source": [
    "#### Adaboost Kaggle score : 0.888065"
   ]
  },
  {
   "cell_type": "code",
   "execution_count": 89,
   "id": "3f537316",
   "metadata": {},
   "outputs": [],
   "source": [
    "import lightgbm\n",
    "from lightgbm import LGBMClassifier"
   ]
  },
  {
   "cell_type": "code",
   "execution_count": 82,
   "id": "40c794c2",
   "metadata": {},
   "outputs": [],
   "source": [
    "from sklearn.model_selection import KFold, TimeSeriesSplit\n",
    "from time import time\n"
   ]
  },
  {
   "cell_type": "code",
   "execution_count": 92,
   "id": "ff852d64",
   "metadata": {},
   "outputs": [],
   "source": [
    "params = {'num_leaves': 491,\n",
    "          'min_child_weight': 0.03454472573214212,\n",
    "          'feature_fraction': 0.3797454081646243,\n",
    "          'bagging_fraction': 0.4181193142567742,\n",
    "          'min_data_in_leaf': 106,\n",
    "          'objective': 'binary',\n",
    "          'max_depth': -1,\n",
    "          'learning_rate': 0.006883242363721497,\n",
    "          \"boosting_type\": \"gbdt\",\n",
    "          \"bagging_seed\": 11,\n",
    "          \"metric\": 'auc',\n",
    "          \"verbosity\": -1,\n",
    "          'reg_alpha': 0.3899927210061127,\n",
    "          'reg_lambda': 0.6485237330340494,\n",
    "          'random_state': 47\n",
    "         }"
   ]
  },
  {
   "cell_type": "code",
   "execution_count": 90,
   "id": "2b72dadf",
   "metadata": {},
   "outputs": [],
   "source": [
    "import lightgbm as lgb\n"
   ]
  },
  {
   "cell_type": "code",
   "execution_count": 91,
   "id": "2005ff96",
   "metadata": {},
   "outputs": [],
   "source": [
    "folds = TimeSeriesSplit(n_splits=5)\n",
    "\n",
    "aucs = list()"
   ]
  },
  {
   "cell_type": "code",
   "execution_count": 86,
   "id": "af9b4b76",
   "metadata": {},
   "outputs": [],
   "source": [
    "feature_importances = pd.DataFrame()\n",
    "feature_importances['feature'] = X.columns"
   ]
  },
  {
   "cell_type": "code",
   "execution_count": 87,
   "id": "7378f3d2",
   "metadata": {},
   "outputs": [],
   "source": [
    "X = X_train\n",
    "y = Y_train"
   ]
  },
  {
   "cell_type": "markdown",
   "id": "8188d1d0",
   "metadata": {},
   "source": [
    "## Xgboost "
   ]
  },
  {
   "cell_type": "code",
   "execution_count": 127,
   "id": "8e2809ed",
   "metadata": {},
   "outputs": [],
   "source": [
    "clf = xgb.XGBClassifier(\n",
    "    n_estimators=500,\n",
    "    max_depth=9,\n",
    "    learning_rate=0.05,\n",
    "    subsample=0.9,\n",
    "    colsample_bytree=0.9,\n",
    "    missing=-999,\n",
    "    random_state=2019,\n",
    "    tree_method='gpu_hist'  # THE MAGICAL PARAMETER\n",
    ")"
   ]
  },
  {
   "cell_type": "code",
   "execution_count": 128,
   "id": "59cd9bb5",
   "metadata": {},
   "outputs": [
    {
     "name": "stderr",
     "output_type": "stream",
     "text": [
      "The use of label encoder in XGBClassifier is deprecated and will be removed in a future release. To remove this warning, do the following: 1) Pass option use_label_encoder=False when constructing XGBClassifier object; and 2) Encode your labels (y) as integers starting with 0, i.e. 0, 1, 2, ..., [num_class - 1].\n"
     ]
    },
    {
     "name": "stdout",
     "output_type": "stream",
     "text": [
      "[15:14:11] WARNING: C:/Users/Administrator/workspace/xgboost-win64_release_1.5.1/src/learner.cc:1115: Starting in XGBoost 1.3.0, the default evaluation metric used with the objective 'binary:logistic' was changed from 'error' to 'logloss'. Explicitly set eval_metric if you'd like to restore the old behavior.\n",
      "Wall time: 6min 47s\n"
     ]
    },
    {
     "data": {
      "text/plain": [
       "XGBClassifier(base_score=0.5, booster='gbtree', colsample_bylevel=1,\n",
       "              colsample_bynode=1, colsample_bytree=0.9,\n",
       "              enable_categorical=False, gamma=0, gpu_id=0, importance_type=None,\n",
       "              interaction_constraints='', learning_rate=0.05, max_delta_step=0,\n",
       "              max_depth=9, min_child_weight=1, missing=-999,\n",
       "              monotone_constraints='()', n_estimators=500, n_jobs=12,\n",
       "              num_parallel_tree=1, predictor='auto', random_state=2019,\n",
       "              reg_alpha=0, reg_lambda=1, scale_pos_weight=1, subsample=0.9,\n",
       "              tree_method='gpu_hist', validate_parameters=1, verbosity=None)"
      ]
     },
     "execution_count": 128,
     "metadata": {},
     "output_type": "execute_result"
    }
   ],
   "source": [
    "%time clf.fit(X_train, Y_train)"
   ]
  },
  {
   "cell_type": "code",
   "execution_count": 129,
   "id": "66db1279",
   "metadata": {},
   "outputs": [
    {
     "name": "stdout",
     "output_type": "stream",
     "text": [
      "Validation roc_auc_score 0.9907683198549764\n"
     ]
    }
   ],
   "source": [
    "print(\"Validation roc_auc_score\",roc_auc_score(Y_val,clf.predict_proba(X_val)[:,1] ))"
   ]
  },
  {
   "cell_type": "code",
   "execution_count": null,
   "id": "f44d2993",
   "metadata": {},
   "outputs": [],
   "source": [
    "sample = pd.read_csv(\"sample_submission.csv\")\n",
    "Y_pred = clf.predict_proba(test)[:,1]\n",
    "sample[\"isFraud\"] = Y_pred\n",
    "sample.to_csv(\"Baseline_XGB.csv\",index = False)"
   ]
  },
  {
   "cell_type": "markdown",
   "id": "df53540b",
   "metadata": {},
   "source": [
    "## Kaggle Score : 0.905887"
   ]
  },
  {
   "cell_type": "code",
   "execution_count": 137,
   "id": "487db970",
   "metadata": {},
   "outputs": [],
   "source": [
    "feature_important = clf.get_booster().get_score(importance_type='weight')\n",
    "keys = list(feature_important.keys())\n",
    "values = list(feature_important.values())"
   ]
  },
  {
   "cell_type": "code",
   "execution_count": 138,
   "id": "69173031",
   "metadata": {},
   "outputs": [
    {
     "data": {
      "text/plain": [
       "<AxesSubplot:>"
      ]
     },
     "execution_count": 138,
     "metadata": {},
     "output_type": "execute_result"
    },
    {
     "data": {
      "image/png": "[encoded data removed]",
      "text/plain": [
       "<Figure size 1440x720 with 1 Axes>"
      ]
     },
     "metadata": {
      "needs_background": "light"
     },
     "output_type": "display_data"
    }
   ],
   "source": [
    "\n",
    "\n",
    "data = pd.DataFrame(data=values, index=keys, columns=[\"score\"]).sort_values(by = \"score\", ascending=False)\n",
    "data.nlargest(40, columns=\"score\").plot(kind='barh', figsize = (20,10)) ## plot top 40 features"
   ]
  },
  {
   "cell_type": "markdown",
   "id": "7780dfb7",
   "metadata": {},
   "source": [
    "#### Feature Engineering "
   ]
  },
  {
   "cell_type": "code",
   "execution_count": 254,
   "id": "3962ff2b",
   "metadata": {},
   "outputs": [],
   "source": [
    "card1_trans_med = dict(X_new.groupby(\"card1\")[\"TransactionAmt\"].median())\n",
    "card2_trans_med = dict(X.groupby(\"card2\")[\"TransactionAmt\"].median())\n",
    "card3_trans_med = dict(X_new.groupby(\"card3\")[\"TransactionAmt\"].median())\n",
    "card4_trans_med = dict(X_new.groupby(\"card4\")[\"TransactionAmt\"].median())\n",
    "card5_trans_med = dict(X_new.groupby(\"card5\")[\"TransactionAmt\"].median())\n",
    "card6_trans_med = dict(X_new.groupby(\"card6\")[\"TransactionAmt\"].median())\n",
    "\n",
    "X_new[\"card1_trans_med\"] = X_new[\"card1\"].map(card_trans_med)\n",
    "X_new[\"card2_trans_med\"] = X_new[\"card2\"].map(card_trans_med)\n",
    "X_new[\"card3_trans_med\"] = X_new[\"card3\"].map(card_trans_med)\n",
    "X_new[\"card4_trans_med\"] = X_new[\"card4\"].map(card_trans_med)\n",
    "X_new[\"card5_trans_med\"] = X_new[\"card5\"].map(card_trans_med)\n",
    "X_new[\"card6_trans_med\"] = X_new[\"card6\"].map(card_trans_med)\n",
    "\n",
    "test[\"card1_trans_med\"] = test[\"card1\"].map(card_trans_med)\n",
    "test[\"card2_trans_med\"] = test[\"card2\"].map(card2_trans_med)\n",
    "test[\"card3_trans_med\"] = test[\"card3\"].map(card2_trans_med)\n",
    "test[\"card4_trans_med\"] = test[\"card4\"].map(card2_trans_med)\n",
    "test[\"card5_trans_med\"] = test[\"card5\"].map(card2_trans_med)\n",
    "test[\"card6_trans_med\"] = test[\"card6\"].map(card2_trans_med)\n",
    "\n",
    "X_new[\"addr1_card1\"] = X_new[[\"card1\",\"addr1\"]].apply(lambda x: str(x[\"card1\"]) +\"_\"+ str(x[\"addr1\"]),axis=1)\n",
    "X_new[\"addr1_card2\"] = X_new[[\"card2\",\"addr1\"]].apply(lambda x: str(x[\"card2\"]) +\"_\"+ str(x[\"addr1\"]),axis=1)\n",
    "X_new[\"addr1_card3\"] = X_new[[\"card3\",\"addr1\"]].apply(lambda x: str(x[\"card3\"]) +\"_\"+ str(x[\"addr1\"]),axis=1)\n",
    "X_new[\"addr1_card4\"] = X_new[[\"card4\",\"addr1\"]].apply(lambda x: str(x[\"card4\"]) +\"_\"+ str(x[\"addr1\"]),axis=1)\n",
    "X_new[\"addr1_card5\"] = X_new[[\"card5\",\"addr1\"]].apply(lambda x: str(x[\"card5\"]) +\"_\"+ str(x[\"addr1\"]),axis=1)\n",
    "X_new[\"addr1_card6\"] = X_new[[\"card6\",\"addr1\"]].apply(lambda x: str(x[\"card6\"]) +\"_\"+ str(x[\"addr1\"]),axis=1)\n"
   ]
  },
  {
   "cell_type": "code",
   "execution_count": 258,
   "id": "9f8b9fb3",
   "metadata": {},
   "outputs": [],
   "source": [
    "test[\"addr1_card1\"] = test[[\"card1\",\"addr1\"]].apply(lambda x: str(x[\"card1\"]) +\"_\"+ str(x[\"addr1\"]),axis=1)\n",
    "test[\"addr1_card2\"] = test[[\"card2\",\"addr1\"]].apply(lambda x: str(x[\"card2\"]) +\"_\"+ str(x[\"addr1\"]),axis=1)\n",
    "test[\"addr1_card3\"] = test[[\"card3\",\"addr1\"]].apply(lambda x: str(x[\"card3\"]) +\"_\"+ str(x[\"addr1\"]),axis=1)\n",
    "test[\"addr1_card4\"] = test[[\"card4\",\"addr1\"]].apply(lambda x: str(x[\"card4\"]) +\"_\"+ str(x[\"addr1\"]),axis=1)\n",
    "test[\"addr1_card5\"] = test[[\"card5\",\"addr1\"]].apply(lambda x: str(x[\"card5\"]) +\"_\"+ str(x[\"addr1\"]),axis=1)\n",
    "test[\"addr1_card6\"] = test[[\"card6\",\"addr1\"]].apply(lambda x: str(x[\"card6\"]) +\"_\"+ str(x[\"addr1\"]),axis=1)"
   ]
  },
  {
   "cell_type": "code",
   "execution_count": 259,
   "id": "cdc669d2",
   "metadata": {},
   "outputs": [],
   "source": [
    "for i in C:\n",
    "    X_new[\"freq_\"+i] = X_new[i].map(X_new.groupby(i).size()/len(X_new))\n",
    "    test[\"freq_\"+i] = test[i].map(test.groupby(i).size()/len(test))"
   ]
  },
  {
   "cell_type": "markdown",
   "id": "216864d8",
   "metadata": {},
   "source": [
    "### C vars cluster "
   ]
  },
  {
   "cell_type": "code",
   "execution_count": 286,
   "id": "e946534d",
   "metadata": {},
   "outputs": [],
   "source": [
    "X_train, X_val, Y_train, Y_val = train_test_split(X_new,y, \n",
    "                                                    test_size=0.15, \n",
    "                                                    random_state=42)"
   ]
  },
  {
   "cell_type": "code",
   "execution_count": 326,
   "id": "868cfc63",
   "metadata": {},
   "outputs": [
    {
     "data": {
      "text/plain": [
       "LGBMClassifier()"
      ]
     },
     "execution_count": 326,
     "metadata": {},
     "output_type": "execute_result"
    }
   ],
   "source": [
    "import lightgbm\n",
    "from lightgbm import LGBMClassifier\n",
    "LGBMmodel = LGBMClassifier()\n",
    "LGBMmodel.fit(X_train[cols],Y_train)"
   ]
  },
  {
   "cell_type": "code",
   "execution_count": 283,
   "id": "c22952bf",
   "metadata": {},
   "outputs": [
    {
     "name": "stderr",
     "output_type": "stream",
     "text": [
      "100%|████████████████████████████████████████████████████████████████████████████████████| 6/6 [00:13<00:00,  2.29s/it]\n"
     ]
    }
   ],
   "source": [
    "for f in tqdm([\"addr1_card1\", \"addr1_card2\", \"addr1_card5\", \"addr1_card6\", \"addr1_card3\", \"addr1_card4\"]):\n",
    "    lbl = LabelEncoder()\n",
    "    lbl.fit(list(X_new[f].values) + list(test[f].values))\n",
    "    X_new[f] = lbl.transform(list(X_new[f].values))\n",
    "    test[f] = lbl.transform(list(test[f].values))\n",
    "    \n",
    "       "
   ]
  },
  {
   "cell_type": "code",
   "execution_count": 328,
   "id": "9ff92a06",
   "metadata": {},
   "outputs": [
    {
     "name": "stdout",
     "output_type": "stream",
     "text": [
      "Validation roc_auc_score 0.9453580228163271\n"
     ]
    }
   ],
   "source": [
    "print(\"Validation roc_auc_score\",roc_auc_score(Y_val,LGBMmodel.predict_proba(X_val[cols])[:,1] ))"
   ]
  },
  {
   "cell_type": "code",
   "execution_count": 291,
   "id": "01a24e97",
   "metadata": {},
   "outputs": [],
   "source": [
    "y_pred = LGBMmodel.predict_proba(test)[:,1]"
   ]
  },
  {
   "cell_type": "code",
   "execution_count": 293,
   "id": "ec409225",
   "metadata": {},
   "outputs": [],
   "source": [
    "sub = pd.read_csv(\"Sub1.csv\")"
   ]
  },
  {
   "cell_type": "code",
   "execution_count": 295,
   "id": "1366c71e",
   "metadata": {},
   "outputs": [],
   "source": [
    "sub[\"isFraud\"] = y_pred"
   ]
  },
  {
   "cell_type": "code",
   "execution_count": 298,
   "id": "a0e3aaed",
   "metadata": {},
   "outputs": [],
   "source": [
    "sub.to_csv(\"FE.csv\",index=False)"
   ]
  },
  {
   "cell_type": "code",
   "execution_count": 315,
   "id": "9decbfae",
   "metadata": {},
   "outputs": [],
   "source": [
    "add_fe = [\"card_trans_med\",\"addr1_card2\",\"addr1_card1\",\"addr1_card6\",\"card2_trans_med\",\"addr1_card3\",\"addr1_card4\",\"addr1_card5\",\"card5_trans_med\",\"card3_trans_med\"]"
   ]
  },
  {
   "cell_type": "code",
   "execution_count": 320,
   "id": "07233f2c",
   "metadata": {},
   "outputs": [],
   "source": [
    "cols = list(upsampled.columns)"
   ]
  },
  {
   "cell_type": "code",
   "execution_count": 321,
   "id": "44f0b275",
   "metadata": {},
   "outputs": [],
   "source": [
    "cols.extend(add_fe)"
   ]
  },
  {
   "cell_type": "code",
   "execution_count": 324,
   "id": "b9584713",
   "metadata": {},
   "outputs": [],
   "source": [
    "cols.remove(\"isFraud\")"
   ]
  },
  {
   "cell_type": "code",
   "execution_count": null,
   "id": "6fa6d460",
   "metadata": {},
   "outputs": [],
   "source": [
    ",\n",
    "Y_pred = LGBMmodel.predict_proba(test)[:,1]\n",
    "sample[\"isFraud\"] = Y_pred\n",
    "sample.to_csv(\"Baseline_LGBM.csv\",index = False)"
   ]
  },
  {
   "cell_type": "code",
   "execution_count": 314,
   "id": "462d7531",
   "metadata": {},
   "outputs": [
    {
     "data": {
      "text/html": [
       "<div>\n",
       "<style scoped>\n",
       "    .dataframe tbody tr th:only-of-type {\n",
       "        vertical-align: middle;\n",
       "    }\n",
       "\n",
       "    .dataframe tbody tr th {\n",
       "        vertical-align: top;\n",
       "    }\n",
       "\n",
       "    .dataframe thead th {\n",
       "        text-align: right;\n",
       "    }\n",
       "</style>\n",
       "<table border=\"1\" class=\"dataframe\">\n",
       "  <thead>\n",
       "    <tr style=\"text-align: right;\">\n",
       "      <th></th>\n",
       "      <th>Feature</th>\n",
       "      <th>Value</th>\n",
       "    </tr>\n",
       "  </thead>\n",
       "  <tbody>\n",
       "    <tr>\n",
       "      <th>437</th>\n",
       "      <td>card_trans_med</td>\n",
       "      <td>131</td>\n",
       "    </tr>\n",
       "    <tr>\n",
       "      <th>24</th>\n",
       "      <td>C13</td>\n",
       "      <td>95</td>\n",
       "    </tr>\n",
       "    <tr>\n",
       "      <th>0</th>\n",
       "      <td>TransactionAmt</td>\n",
       "      <td>89</td>\n",
       "    </tr>\n",
       "    <tr>\n",
       "      <th>440</th>\n",
       "      <td>addr1_card2</td>\n",
       "      <td>87</td>\n",
       "    </tr>\n",
       "    <tr>\n",
       "      <th>439</th>\n",
       "      <td>addr1_card1</td>\n",
       "      <td>86</td>\n",
       "    </tr>\n",
       "    <tr>\n",
       "      <th>2</th>\n",
       "      <td>card1</td>\n",
       "      <td>78</td>\n",
       "    </tr>\n",
       "    <tr>\n",
       "      <th>40</th>\n",
       "      <td>D15</td>\n",
       "      <td>63</td>\n",
       "    </tr>\n",
       "    <tr>\n",
       "      <th>457</th>\n",
       "      <td>addr1_card6</td>\n",
       "      <td>62</td>\n",
       "    </tr>\n",
       "    <tr>\n",
       "      <th>438</th>\n",
       "      <td>card2_trans_med</td>\n",
       "      <td>62</td>\n",
       "    </tr>\n",
       "    <tr>\n",
       "      <th>458</th>\n",
       "      <td>addr1_card3</td>\n",
       "      <td>62</td>\n",
       "    </tr>\n",
       "    <tr>\n",
       "      <th>25</th>\n",
       "      <td>C14</td>\n",
       "      <td>61</td>\n",
       "    </tr>\n",
       "    <tr>\n",
       "      <th>27</th>\n",
       "      <td>D2</td>\n",
       "      <td>59</td>\n",
       "    </tr>\n",
       "    <tr>\n",
       "      <th>459</th>\n",
       "      <td>addr1_card4</td>\n",
       "      <td>53</td>\n",
       "    </tr>\n",
       "    <tr>\n",
       "      <th>3</th>\n",
       "      <td>card2</td>\n",
       "      <td>51</td>\n",
       "    </tr>\n",
       "    <tr>\n",
       "      <th>441</th>\n",
       "      <td>freq_C1</td>\n",
       "      <td>51</td>\n",
       "    </tr>\n",
       "    <tr>\n",
       "      <th>456</th>\n",
       "      <td>addr1_card5</td>\n",
       "      <td>47</td>\n",
       "    </tr>\n",
       "    <tr>\n",
       "      <th>453</th>\n",
       "      <td>freq_C13</td>\n",
       "      <td>47</td>\n",
       "    </tr>\n",
       "    <tr>\n",
       "      <th>26</th>\n",
       "      <td>D1</td>\n",
       "      <td>46</td>\n",
       "    </tr>\n",
       "    <tr>\n",
       "      <th>35</th>\n",
       "      <td>D10</td>\n",
       "      <td>46</td>\n",
       "    </tr>\n",
       "    <tr>\n",
       "      <th>8</th>\n",
       "      <td>addr1</td>\n",
       "      <td>46</td>\n",
       "    </tr>\n",
       "    <tr>\n",
       "      <th>12</th>\n",
       "      <td>C1</td>\n",
       "      <td>44</td>\n",
       "    </tr>\n",
       "    <tr>\n",
       "      <th>29</th>\n",
       "      <td>D4</td>\n",
       "      <td>44</td>\n",
       "    </tr>\n",
       "    <tr>\n",
       "      <th>433</th>\n",
       "      <td>R_emaildomain_bin</td>\n",
       "      <td>43</td>\n",
       "    </tr>\n",
       "    <tr>\n",
       "      <th>431</th>\n",
       "      <td>P_emaildomain_bin</td>\n",
       "      <td>41</td>\n",
       "    </tr>\n",
       "    <tr>\n",
       "      <th>1</th>\n",
       "      <td>ProductCD</td>\n",
       "      <td>41</td>\n",
       "    </tr>\n",
       "    <tr>\n",
       "      <th>462</th>\n",
       "      <td>card5_trans_med</td>\n",
       "      <td>36</td>\n",
       "    </tr>\n",
       "    <tr>\n",
       "      <th>10</th>\n",
       "      <td>dist1</td>\n",
       "      <td>34</td>\n",
       "    </tr>\n",
       "    <tr>\n",
       "      <th>22</th>\n",
       "      <td>C11</td>\n",
       "      <td>32</td>\n",
       "    </tr>\n",
       "    <tr>\n",
       "      <th>17</th>\n",
       "      <td>C6</td>\n",
       "      <td>31</td>\n",
       "    </tr>\n",
       "    <tr>\n",
       "      <th>33</th>\n",
       "      <td>D8</td>\n",
       "      <td>31</td>\n",
       "    </tr>\n",
       "    <tr>\n",
       "      <th>45</th>\n",
       "      <td>M5</td>\n",
       "      <td>31</td>\n",
       "    </tr>\n",
       "    <tr>\n",
       "      <th>16</th>\n",
       "      <td>C5</td>\n",
       "      <td>30</td>\n",
       "    </tr>\n",
       "    <tr>\n",
       "      <th>13</th>\n",
       "      <td>C2</td>\n",
       "      <td>28</td>\n",
       "    </tr>\n",
       "    <tr>\n",
       "      <th>389</th>\n",
       "      <td>id_01</td>\n",
       "      <td>28</td>\n",
       "    </tr>\n",
       "    <tr>\n",
       "      <th>20</th>\n",
       "      <td>C9</td>\n",
       "      <td>27</td>\n",
       "    </tr>\n",
       "    <tr>\n",
       "      <th>46</th>\n",
       "      <td>M6</td>\n",
       "      <td>23</td>\n",
       "    </tr>\n",
       "    <tr>\n",
       "      <th>460</th>\n",
       "      <td>card3_trans_med</td>\n",
       "      <td>22</td>\n",
       "    </tr>\n",
       "    <tr>\n",
       "      <th>307</th>\n",
       "      <td>V258</td>\n",
       "      <td>22</td>\n",
       "    </tr>\n",
       "    <tr>\n",
       "      <th>359</th>\n",
       "      <td>V310</td>\n",
       "      <td>21</td>\n",
       "    </tr>\n",
       "    <tr>\n",
       "      <th>334</th>\n",
       "      <td>V285</td>\n",
       "      <td>21</td>\n",
       "    </tr>\n",
       "  </tbody>\n",
       "</table>\n",
       "</div>"
      ],
      "text/plain": [
       "               Feature  Value\n",
       "437     card_trans_med    131\n",
       "24                 C13     95\n",
       "0       TransactionAmt     89\n",
       "440        addr1_card2     87\n",
       "439        addr1_card1     86\n",
       "2                card1     78\n",
       "40                 D15     63\n",
       "457        addr1_card6     62\n",
       "438    card2_trans_med     62\n",
       "458        addr1_card3     62\n",
       "25                 C14     61\n",
       "27                  D2     59\n",
       "459        addr1_card4     53\n",
       "3                card2     51\n",
       "441            freq_C1     51\n",
       "456        addr1_card5     47\n",
       "453           freq_C13     47\n",
       "26                  D1     46\n",
       "35                 D10     46\n",
       "8                addr1     46\n",
       "12                  C1     44\n",
       "29                  D4     44\n",
       "433  R_emaildomain_bin     43\n",
       "431  P_emaildomain_bin     41\n",
       "1            ProductCD     41\n",
       "462    card5_trans_med     36\n",
       "10               dist1     34\n",
       "22                 C11     32\n",
       "17                  C6     31\n",
       "33                  D8     31\n",
       "45                  M5     31\n",
       "16                  C5     30\n",
       "13                  C2     28\n",
       "389              id_01     28\n",
       "20                  C9     27\n",
       "46                  M6     23\n",
       "460    card3_trans_med     22\n",
       "307               V258     22\n",
       "359               V310     21\n",
       "334               V285     21"
      ]
     },
     "execution_count": 314,
     "metadata": {},
     "output_type": "execute_result"
    }
   ],
   "source": [
    "feimp[:40]"
   ]
  },
  {
   "cell_type": "code",
   "execution_count": 309,
   "id": "2df3c91e",
   "metadata": {},
   "outputs": [],
   "source": [
    "feimp=pd.DataFrame({'Feature':LGBMmodel.feature_name_,'Value':LGBMmodel.feature_importances_}).sort_values(by=\"Value\",ascending=False)\n"
   ]
  }
 ],
 "metadata": {
  "kernelspec": {
   "display_name": "Python 3 (ipykernel)",
   "language": "python",
   "name": "python3"
  },
  "language_info": {
   "codemirror_mode": {
    "name": "ipython",
    "version": 3
   },
   "file_extension": ".py",
   "mimetype": "text/x-python",
   "name": "python",
   "nbconvert_exporter": "python",
   "pygments_lexer": "ipython3",
   "version": "3.8.7"
  }
 },
 "nbformat": 4,
 "nbformat_minor": 5
}
